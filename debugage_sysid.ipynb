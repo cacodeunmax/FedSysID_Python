{
 "cells": [
  {
   "cell_type": "code",
   "execution_count": 17,
   "metadata": {},
   "outputs": [],
   "source": [
    "import numpy as np\n",
    "import matplotlib.pyplot as plt\n",
    "\n",
    "from sysgen import sysgen\n",
    "from sysid import sysid\n",
    "from syssim import syssim"
   ]
  },
  {
   "cell_type": "code",
   "execution_count": 61,
   "metadata": {},
   "outputs": [],
   "source": [
    "# System Data\n",
    "n = 3\n",
    "p = 2\n",
    "\n",
    "# Nominal system:\n",
    "A_0 = np.array([[0.6, 0.5, 0.4],\n",
    "                [0, 0.4, 0.3],\n",
    "                [0, 0, 0.3]])\n",
    "\n",
    "B_0 = np.array([[1, 0.5],\n",
    "                [0.5, 1],\n",
    "                [0.5, 0.5]])\n",
    "\n",
    "V = np.array([[0, 0, 0],\n",
    "              [0, 1, 0],\n",
    "              [0, 0, 1]])  # Modification pattern applied to A_0\n",
    "\n",
    "U = np.array([[1, 0],\n",
    "              [0, 0],\n",
    "              [0, 1]])  # Modification pattern applied to B_0\n",
    "\n",
    "# Noise levels\n",
    "sigu = 1\n",
    "sigw = 1\n",
    "sigx = 1\n",
    "\n",
    "# Rollout length\n",
    "T = 5\n",
    "\n",
    "# Select FL_solver (Fed_Avg = 0, Fed_Lin = 1)\n",
    "FL_solver = 0\n",
    "\n",
    "q = 25  # number of estimations\n",
    "R = 200  # number of global iterations\n",
    "s = 1  # fixed system for the error computation\n",
    "\n",
    "M = [1,5,10,25]\n",
    "N = 25  # Fixed number of rollouts\n",
    "epsilon = 0.01  # Fixed dissimilarity"
   ]
  },
  {
   "cell_type": "code",
   "execution_count": 64,
   "metadata": {},
   "outputs": [
    {
     "data": {
      "text/plain": [
       "[array([[0.6       , 0.5       , 0.4       ],\n",
       "        [0.        , 0.40509324, 0.3       ],\n",
       "        [0.        , 0.        , 0.30509324]]),\n",
       " array([[0.6       , 0.5       , 0.4       ],\n",
       "        [0.        , 0.40008867, 0.3       ],\n",
       "        [0.        , 0.        , 0.30008867]]),\n",
       " array([[0.6      , 0.5      , 0.4      ],\n",
       "        [0.       , 0.4076582, 0.3      ],\n",
       "        [0.       , 0.       , 0.3076582]]),\n",
       " array([[0.6       , 0.5       , 0.4       ],\n",
       "        [0.        , 0.40895251, 0.3       ],\n",
       "        [0.        , 0.        , 0.30895251]]),\n",
       " array([[0.6       , 0.5       , 0.4       ],\n",
       "        [0.        , 0.40887334, 0.3       ],\n",
       "        [0.        , 0.        , 0.30887334]]),\n",
       " array([[0.6       , 0.5       , 0.4       ],\n",
       "        [0.        , 0.40901153, 0.3       ],\n",
       "        [0.        , 0.        , 0.30901153]]),\n",
       " array([[0.6      , 0.5      , 0.4      ],\n",
       "        [0.       , 0.4079853, 0.3      ],\n",
       "        [0.       , 0.       , 0.3079853]]),\n",
       " array([[0.6       , 0.5       , 0.4       ],\n",
       "        [0.        , 0.40182415, 0.3       ],\n",
       "        [0.        , 0.        , 0.30182415]]),\n",
       " array([[0.6       , 0.5       , 0.4       ],\n",
       "        [0.        , 0.40505819, 0.3       ],\n",
       "        [0.        , 0.        , 0.30505819]]),\n",
       " array([[0.6       , 0.5       , 0.4       ],\n",
       "        [0.        , 0.40232659, 0.3       ],\n",
       "        [0.        , 0.        , 0.30232659]]),\n",
       " array([[0.6       , 0.5       , 0.4       ],\n",
       "        [0.        , 0.40929862, 0.3       ],\n",
       "        [0.        , 0.        , 0.30929862]]),\n",
       " array([[0.6       , 0.5       , 0.4       ],\n",
       "        [0.        , 0.40605492, 0.3       ],\n",
       "        [0.        , 0.        , 0.30605492]]),\n",
       " array([[0.6       , 0.5       , 0.4       ],\n",
       "        [0.        , 0.40317412, 0.3       ],\n",
       "        [0.        , 0.        , 0.30317412]]),\n",
       " array([[0.6       , 0.5       , 0.4       ],\n",
       "        [0.        , 0.40872846, 0.3       ],\n",
       "        [0.        , 0.        , 0.30872846]]),\n",
       " array([[0.6       , 0.5       , 0.4       ],\n",
       "        [0.        , 0.40999703, 0.3       ],\n",
       "        [0.        , 0.        , 0.30999703]]),\n",
       " array([[0.6       , 0.5       , 0.4       ],\n",
       "        [0.        , 0.40457618, 0.3       ],\n",
       "        [0.        , 0.        , 0.30457618]]),\n",
       " array([[0.6       , 0.5       , 0.4       ],\n",
       "        [0.        , 0.40943357, 0.3       ],\n",
       "        [0.        , 0.        , 0.30943357]]),\n",
       " array([[0.6       , 0.5       , 0.4       ],\n",
       "        [0.        , 0.40237529, 0.3       ],\n",
       "        [0.        , 0.        , 0.30237529]]),\n",
       " array([[0.6       , 0.5       , 0.4       ],\n",
       "        [0.        , 0.40329731, 0.3       ],\n",
       "        [0.        , 0.        , 0.30329731]]),\n",
       " array([[0.6       , 0.5       , 0.4       ],\n",
       "        [0.        , 0.40210819, 0.3       ],\n",
       "        [0.        , 0.        , 0.30210819]]),\n",
       " array([[0.6       , 0.5       , 0.4       ],\n",
       "        [0.        , 0.40359004, 0.3       ],\n",
       "        [0.        , 0.        , 0.30359004]]),\n",
       " array([[0.6       , 0.5       , 0.4       ],\n",
       "        [0.        , 0.40459954, 0.3       ],\n",
       "        [0.        , 0.        , 0.30459954]]),\n",
       " array([[0.6       , 0.5       , 0.4       ],\n",
       "        [0.        , 0.40482681, 0.3       ],\n",
       "        [0.        , 0.        , 0.30482681]]),\n",
       " array([[0.6       , 0.5       , 0.4       ],\n",
       "        [0.        , 0.40656977, 0.3       ],\n",
       "        [0.        , 0.        , 0.30656977]]),\n",
       " array([[0.6       , 0.5       , 0.4       ],\n",
       "        [0.        , 0.40057408, 0.3       ],\n",
       "        [0.        , 0.        , 0.30057408]])]"
      ]
     },
     "execution_count": 64,
     "metadata": {},
     "output_type": "execute_result"
    }
   ],
   "source": [
    "A, B = sysgen(A_0, B_0, V, U, max(M), epsilon)  # Generate similar systems\n",
    "\n",
    "E_avg = np.zeros((len(M), R))\n",
    "A"
   ]
  },
  {
   "cell_type": "code",
   "execution_count": 37,
   "metadata": {},
   "outputs": [],
   "source": [
    "# n = A[0].shape[0]\n",
    "# p = B[0].shape[1]\n",
    "\n",
    "# Générer les trajectoires du système\n",
    "X = []\n",
    "Z = []\n",
    "W = []\n",
    "for i in range(len(M)):\n",
    "\n",
    "    X_i, Z_i, W_i, list_x0 = syssim(A, B, T, N, i, sigu, sigw, sigx)\n",
    "    X.append(X_i)\n",
    "    Z.append(Z_i)\n",
    "    W.append(W_i)"
   ]
  },
  {
   "cell_type": "code",
   "execution_count": 66,
   "metadata": {},
   "outputs": [
    {
     "data": {
      "text/plain": [
       "25"
      ]
     },
     "execution_count": 66,
     "metadata": {},
     "output_type": "execute_result"
    }
   ],
   "source": [
    "len(A)"
   ]
  },
  {
   "cell_type": "code",
   "execution_count": 72,
   "metadata": {},
   "outputs": [
    {
     "data": {
      "text/plain": [
       "array([0.        , 0.        , 0.        , 0.        , 0.        ,\n",
       "       0.        , 0.        , 0.        , 0.        , 0.        ,\n",
       "       0.        , 0.        , 0.        , 0.        , 0.        ,\n",
       "       0.        , 0.        , 0.        , 0.        , 0.06164726])"
      ]
     },
     "execution_count": 72,
     "metadata": {},
     "output_type": "execute_result"
    }
   ],
   "source": [
    "\n",
    "j=3\n",
    "s=2\n",
    "FL_solver=0\n",
    "Error=sysid(A, B, T, N, M[j], R, sigu, sigx, sigw, FL_solver, s)\n",
    "Error[180:200]"
   ]
  },
  {
   "cell_type": "code",
   "execution_count": 49,
   "metadata": {},
   "outputs": [
    {
     "data": {
      "text/plain": [
       "array([[0.6, 0.5, 0.4],\n",
       "       [0. , 0.4, 0.3],\n",
       "       [0. , 0. , 0.3]])"
      ]
     },
     "execution_count": 49,
     "metadata": {},
     "output_type": "execute_result"
    }
   ],
   "source": [
    "A_0"
   ]
  },
  {
   "cell_type": "code",
   "execution_count": 51,
   "metadata": {},
   "outputs": [
    {
     "data": {
      "text/plain": [
       "array([[ 6.,  5.,  4., 10.,  5.],\n",
       "       [ 0.,  4.,  3.,  5., 10.],\n",
       "       [ 0.,  0.,  3.,  5.,  5.]])"
      ]
     },
     "execution_count": 51,
     "metadata": {},
     "output_type": "execute_result"
    }
   ],
   "source": [
    "10*np.hstack([A_0, B_0])"
   ]
  },
  {
   "cell_type": "code",
   "execution_count": 42,
   "metadata": {},
   "outputs": [
    {
     "data": {
      "text/plain": [
       "5"
      ]
     },
     "execution_count": 42,
     "metadata": {},
     "output_type": "execute_result"
    }
   ],
   "source": [
    "M = [1, 2, 5, 25, 100]\n",
    "len(M)"
   ]
  }
 ],
 "metadata": {
  "kernelspec": {
   "display_name": "FAU",
   "language": "python",
   "name": "python3"
  },
  "language_info": {
   "codemirror_mode": {
    "name": "ipython",
    "version": 3
   },
   "file_extension": ".py",
   "mimetype": "text/x-python",
   "name": "python",
   "nbconvert_exporter": "python",
   "pygments_lexer": "ipython3",
   "version": "3.10.13"
  }
 },
 "nbformat": 4,
 "nbformat_minor": 2
}
