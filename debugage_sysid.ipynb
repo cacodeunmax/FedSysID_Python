{
 "cells": [
  {
   "cell_type": "code",
   "execution_count": 1,
   "metadata": {},
   "outputs": [],
   "source": [
    "import numpy as np\n",
    "import matplotlib.pyplot as plt\n",
    "\n",
    "from sysgen import sysgen\n",
    "from sysid import sysid\n",
    "from syssim import syssim"
   ]
  },
  {
   "cell_type": "code",
   "execution_count": 2,
   "metadata": {},
   "outputs": [],
   "source": [
    "# System Data\n",
    "n = 3\n",
    "p = 2\n",
    "\n",
    "# Nominal system:\n",
    "A_0 = np.array([[0.6, 0.5, 0.4],\n",
    "                [0, 0.4, 0.3],\n",
    "                [0, 0, 0.3]])\n",
    "\n",
    "B_0 = np.array([[1, 0.5],\n",
    "                [0.5, 1],\n",
    "                [0.5, 0.5]])\n",
    "\n",
    "V = np.array([[0, 0, 0],\n",
    "              [0, 1, 0],\n",
    "              [0, 0, 1]])  # Modification pattern applied to A_0\n",
    "\n",
    "U = np.array([[1, 0],\n",
    "              [0, 0],\n",
    "              [0, 1]])  # Modification pattern applied to B_0\n",
    "\n",
    "# Noise levels\n",
    "sigu = 1\n",
    "sigw = 1\n",
    "sigx = 1\n",
    "\n",
    "# Rollout length\n",
    "T = 5\n",
    "\n",
    "# Select FL_solver (Fed_Avg = 0, Fed_Lin = 1)\n",
    "FL_solver = 0\n",
    "\n",
    "q = 25  # number of estimations\n",
    "R = 200  # number of global iterations\n",
    "s = 1  # fixed system for the error computation\n",
    "\n",
    "M = [1,5,10,25]\n",
    "N = 25  # Fixed number of rollouts\n",
    "epsilon = 0.01  # Fixed dissimilarity"
   ]
  },
  {
   "cell_type": "code",
   "execution_count": 3,
   "metadata": {},
   "outputs": [
    {
     "data": {
      "text/plain": [
       "[array([[0.6       , 0.5       , 0.4       ],\n",
       "        [0.        , 0.40026094, 0.3       ],\n",
       "        [0.        , 0.        , 0.30026094]]),\n",
       " array([[0.6       , 0.5       , 0.4       ],\n",
       "        [0.        , 0.40529333, 0.3       ],\n",
       "        [0.        , 0.        , 0.30529333]]),\n",
       " array([[0.6       , 0.5       , 0.4       ],\n",
       "        [0.        , 0.40039946, 0.3       ],\n",
       "        [0.        , 0.        , 0.30039946]]),\n",
       " array([[0.6      , 0.5      , 0.4      ],\n",
       "        [0.       , 0.4014065, 0.3      ],\n",
       "        [0.       , 0.       , 0.3014065]]),\n",
       " array([[0.6       , 0.5       , 0.4       ],\n",
       "        [0.        , 0.40871057, 0.3       ],\n",
       "        [0.        , 0.        , 0.30871057]]),\n",
       " array([[0.6       , 0.5       , 0.4       ],\n",
       "        [0.        , 0.40369426, 0.3       ],\n",
       "        [0.        , 0.        , 0.30369426]]),\n",
       " array([[0.6       , 0.5       , 0.4       ],\n",
       "        [0.        , 0.40235447, 0.3       ],\n",
       "        [0.        , 0.        , 0.30235447]]),\n",
       " array([[0.6       , 0.5       , 0.4       ],\n",
       "        [0.        , 0.40427884, 0.3       ],\n",
       "        [0.        , 0.        , 0.30427884]]),\n",
       " array([[0.6       , 0.5       , 0.4       ],\n",
       "        [0.        , 0.40835142, 0.3       ],\n",
       "        [0.        , 0.        , 0.30835142]]),\n",
       " array([[0.6       , 0.5       , 0.4       ],\n",
       "        [0.        , 0.40561144, 0.3       ],\n",
       "        [0.        , 0.        , 0.30561144]]),\n",
       " array([[0.6       , 0.5       , 0.4       ],\n",
       "        [0.        , 0.40123105, 0.3       ],\n",
       "        [0.        , 0.        , 0.30123105]]),\n",
       " array([[0.6       , 0.5       , 0.4       ],\n",
       "        [0.        , 0.40172469, 0.3       ],\n",
       "        [0.        , 0.        , 0.30172469]]),\n",
       " array([[0.6       , 0.5       , 0.4       ],\n",
       "        [0.        , 0.40574698, 0.3       ],\n",
       "        [0.        , 0.        , 0.30574698]]),\n",
       " array([[0.6       , 0.5       , 0.4       ],\n",
       "        [0.        , 0.40044328, 0.3       ],\n",
       "        [0.        , 0.        , 0.30044328]]),\n",
       " array([[0.6       , 0.5       , 0.4       ],\n",
       "        [0.        , 0.40167238, 0.3       ],\n",
       "        [0.        , 0.        , 0.30167238]]),\n",
       " array([[0.6      , 0.5      , 0.4      ],\n",
       "        [0.       , 0.4057738, 0.3      ],\n",
       "        [0.       , 0.       , 0.3057738]]),\n",
       " array([[0.6       , 0.5       , 0.4       ],\n",
       "        [0.        , 0.40100614, 0.3       ],\n",
       "        [0.        , 0.        , 0.30100614]]),\n",
       " array([[0.6       , 0.5       , 0.4       ],\n",
       "        [0.        , 0.40069061, 0.3       ],\n",
       "        [0.        , 0.        , 0.30069061]]),\n",
       " array([[0.6       , 0.5       , 0.4       ],\n",
       "        [0.        , 0.40674685, 0.3       ],\n",
       "        [0.        , 0.        , 0.30674685]]),\n",
       " array([[0.6       , 0.5       , 0.4       ],\n",
       "        [0.        , 0.40228244, 0.3       ],\n",
       "        [0.        , 0.        , 0.30228244]]),\n",
       " array([[0.6       , 0.5       , 0.4       ],\n",
       "        [0.        , 0.40812504, 0.3       ],\n",
       "        [0.        , 0.        , 0.30812504]]),\n",
       " array([[0.6       , 0.5       , 0.4       ],\n",
       "        [0.        , 0.40412508, 0.3       ],\n",
       "        [0.        , 0.        , 0.30412508]]),\n",
       " array([[0.6       , 0.5       , 0.4       ],\n",
       "        [0.        , 0.40349377, 0.3       ],\n",
       "        [0.        , 0.        , 0.30349377]]),\n",
       " array([[0.6       , 0.5       , 0.4       ],\n",
       "        [0.        , 0.40481092, 0.3       ],\n",
       "        [0.        , 0.        , 0.30481092]]),\n",
       " array([[0.6      , 0.5      , 0.4      ],\n",
       "        [0.       , 0.4072446, 0.3      ],\n",
       "        [0.       , 0.       , 0.3072446]])]"
      ]
     },
     "execution_count": 3,
     "metadata": {},
     "output_type": "execute_result"
    }
   ],
   "source": [
    "A, B = sysgen(A_0, B_0, V, U, max(M), epsilon)  # Generate similar systems\n",
    "\n",
    "E_avg = np.zeros((len(M), R))\n",
    "A"
   ]
  },
  {
   "cell_type": "code",
   "execution_count": 4,
   "metadata": {},
   "outputs": [],
   "source": [
    "# n = A[0].shape[0]\n",
    "# p = B[0].shape[1]\n",
    "\n",
    "# Générer les trajectoires du système\n",
    "X = []\n",
    "Z = []\n",
    "W = []\n",
    "for i in range(len(M)):\n",
    "\n",
    "    X_i, Z_i, W_i, list_x0 = syssim(A, B, T, N, i, sigu, sigw, sigx)\n",
    "    X.append(X_i)\n",
    "    Z.append(Z_i)\n",
    "    W.append(W_i)"
   ]
  },
  {
   "cell_type": "code",
   "execution_count": 5,
   "metadata": {},
   "outputs": [
    {
     "data": {
      "text/plain": [
       "25"
      ]
     },
     "execution_count": 5,
     "metadata": {},
     "output_type": "execute_result"
    }
   ],
   "source": [
    "len(A)"
   ]
  },
  {
   "cell_type": "code",
   "execution_count": 11,
   "metadata": {},
   "outputs": [
    {
     "data": {
      "text/plain": [
       "array([0.        , 0.        , 0.        , 0.        , 0.        ,\n",
       "       0.        , 0.        , 0.        , 0.        , 0.        ,\n",
       "       0.        , 0.        , 0.        , 0.        , 0.        ,\n",
       "       0.        , 0.        , 0.        , 0.        , 0.03659961])"
      ]
     },
     "execution_count": 11,
     "metadata": {},
     "output_type": "execute_result"
    }
   ],
   "source": [
    "\n",
    "j=3\n",
    "s=7\n",
    "FL_solver=0\n",
    "Error=sysid(A, B, T, N, M[j], R, sigu, sigx, sigw, FL_solver, s)\n",
    "Error[180:200]"
   ]
  },
  {
   "cell_type": "code",
   "execution_count": 7,
   "metadata": {},
   "outputs": [
    {
     "data": {
      "text/plain": [
       "array([[0.6, 0.5, 0.4],\n",
       "       [0. , 0.4, 0.3],\n",
       "       [0. , 0. , 0.3]])"
      ]
     },
     "execution_count": 7,
     "metadata": {},
     "output_type": "execute_result"
    }
   ],
   "source": [
    "A_0"
   ]
  },
  {
   "cell_type": "code",
   "execution_count": 8,
   "metadata": {},
   "outputs": [
    {
     "data": {
      "text/plain": [
       "array([[ 6.,  5.,  4., 10.,  5.],\n",
       "       [ 0.,  4.,  3.,  5., 10.],\n",
       "       [ 0.,  0.,  3.,  5.,  5.]])"
      ]
     },
     "execution_count": 8,
     "metadata": {},
     "output_type": "execute_result"
    }
   ],
   "source": [
    "10*np.hstack([A_0, B_0])"
   ]
  },
  {
   "cell_type": "code",
   "execution_count": 9,
   "metadata": {},
   "outputs": [
    {
     "data": {
      "text/plain": [
       "5"
      ]
     },
     "execution_count": 9,
     "metadata": {},
     "output_type": "execute_result"
    }
   ],
   "source": [
    "M = [1, 2, 5, 25, 100]\n",
    "len(M)"
   ]
  }
 ],
 "metadata": {
  "kernelspec": {
   "display_name": "FAU",
   "language": "python",
   "name": "python3"
  },
  "language_info": {
   "codemirror_mode": {
    "name": "ipython",
    "version": 3
   },
   "file_extension": ".py",
   "mimetype": "text/x-python",
   "name": "python",
   "nbconvert_exporter": "python",
   "pygments_lexer": "ipython3",
   "version": "3.10.13"
  }
 },
 "nbformat": 4,
 "nbformat_minor": 2
}
